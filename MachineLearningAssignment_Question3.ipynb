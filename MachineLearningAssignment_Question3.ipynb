{
  "nbformat": 4,
  "nbformat_minor": 0,
  "metadata": {
    "colab": {
      "provenance": []
    },
    "kernelspec": {
      "name": "python3",
      "display_name": "Python 3"
    },
    "language_info": {
      "name": "python"
    },
    "gpuClass": "standard",
    "accelerator": "GPU"
  },
  "cells": [
    {
      "cell_type": "markdown",
      "source": [
        "NAME: SUPROBHO GUPTA"
      ],
      "metadata": {
        "id": "4r22BL9ZDhw2"
      }
    },
    {
      "cell_type": "markdown",
      "source": [
        "ROLL NUMBER: M22AI651"
      ],
      "metadata": {
        "id": "gvfS6wKADmRz"
      }
    },
    {
      "cell_type": "markdown",
      "source": [
        "Importing Libraries"
      ],
      "metadata": {
        "id": "p_BvYh9fDpj6"
      }
    },
    {
      "cell_type": "code",
      "source": [
        "import numpy as np\n",
        "from matplotlib import pyplot as plt\n",
        "%matplotlib inline\n",
        "import pandas as pd\n",
        "import tensorflow as tf\n",
        "from tensorflow import keras\n",
        "from keras.models import Sequential\n",
        "from keras.layers import Dense,Conv2D,MaxPooling2D,Flatten,GlobalAveragePooling2D\n",
        "from PIL import Image\n",
        "from sklearn.preprocessing import LabelEncoder\n",
        "from sklearn.metrics import confusion_matrix,classification_report\n",
        "import os\n",
        "import cv2"
      ],
      "metadata": {
        "id": "ybDH1Gfkajl8"
      },
      "execution_count": 1,
      "outputs": []
    },
    {
      "cell_type": "markdown",
      "source": [
        "Setting Path"
      ],
      "metadata": {
        "id": "DDj1_xKCDsTm"
      }
    },
    {
      "cell_type": "code",
      "source": [
        "train_val_directory=\"/content/drive/MyDrive/Machine Learning Datasets/charts/train_val\"\n",
        "test_directory=\"/content/drive/MyDrive/Machine Learning Datasets/charts/test\"\n",
        "train_path_labels=\"/content/train_val.csv\"\n",
        "train_val_labels=pd.read_csv(train_path_labels)\n",
        "\n"
      ],
      "metadata": {
        "id": "rU9zgkHWcAYk"
      },
      "execution_count": 3,
      "outputs": []
    },
    {
      "cell_type": "markdown",
      "source": [
        "Loading the dataset- Training"
      ],
      "metadata": {
        "id": "zDJ0BMryDuan"
      }
    },
    {
      "cell_type": "code",
      "source": [
        "imge=[]\n",
        "lbl=[]\n",
        "for filename in os.listdir(train_val_directory):\n",
        "  img=cv2.imread(os.path.join(train_val_directory,filename))\n",
        "  img=cv2.resize(img,(128,128))\n",
        "  img=cv2.cvtColor(img,cv2.COLOR_BGR2RGB)\n",
        "  img_array=np.array(img)\n",
        "  imge.append(img_array)\n",
        "  lbl.append(filename)\n",
        "\n",
        "le=LabelEncoder()\n",
        "labels=le.fit_transform(lbl)\n",
        "images=np.array(imge)\n",
        "labels=np.array(lbl)\n",
        "np.save('x_train.npy',images)\n",
        "np.save('y_train.npy',labels)\n",
        "x_train=np.load('x_train.npy')\n",
        "y_train=np.load('y_train.npy')\n",
        "x_train.shape\n"
      ],
      "metadata": {
        "colab": {
          "base_uri": "https://localhost:8080/"
        },
        "id": "SmVoo0K9crCB",
        "outputId": "c4e99083-5458-46fd-cc24-c13b3c9b464a"
      },
      "execution_count": 4,
      "outputs": [
        {
          "output_type": "execute_result",
          "data": {
            "text/plain": [
              "(1000, 128, 128, 3)"
            ]
          },
          "metadata": {},
          "execution_count": 4
        }
      ]
    },
    {
      "cell_type": "markdown",
      "source": [
        "Loading the dataset- Validation"
      ],
      "metadata": {
        "id": "wk640WNEDyDd"
      }
    },
    {
      "cell_type": "code",
      "source": [
        "imge=[]\n",
        "lbl=[]\n",
        "for filename in os.listdir(test_directory):\n",
        "  img=cv2.imread(os.path.join(test_directory,filename))\n",
        "  img=cv2.resize(img,(128,128))\n",
        "  img=cv2.cvtColor(img,cv2.COLOR_BGR2RGB)\n",
        "  img_array=np.array(img)\n",
        "  imge.append(img_array)\n",
        "  lbl.append(filename)\n",
        "\n",
        "le=LabelEncoder()\n",
        "labels=le.fit_transform(labels)\n",
        "images=np.array(imge)\n",
        "labels=np.array(lbl)\n",
        "np.save('x_test.npy',images)\n",
        "np.save('y_test.npy',labels)\n",
        "x_test=np.load('x_test.npy')\n",
        "y_test=np.load('y_test.npy')\n",
        "x_test.shape"
      ],
      "metadata": {
        "colab": {
          "base_uri": "https://localhost:8080/"
        },
        "id": "cOC93TCxfiFi",
        "outputId": "2d163365-dd14-491e-ecba-239c1f1b2aa3"
      },
      "execution_count": 5,
      "outputs": [
        {
          "output_type": "execute_result",
          "data": {
            "text/plain": [
              "(50, 128, 128, 3)"
            ]
          },
          "metadata": {},
          "execution_count": 5
        }
      ]
    },
    {
      "cell_type": "code",
      "source": [
        "plt.figure(figsize=(10,2))\n",
        "plt.imshow(x_train[10])\n"
      ],
      "metadata": {
        "colab": {
          "base_uri": "https://localhost:8080/",
          "height": 237
        },
        "id": "Vc3tcebGgpIj",
        "outputId": "07e88675-1bc6-45ff-e80f-cbb341f05354"
      },
      "execution_count": 6,
      "outputs": [
        {
          "output_type": "execute_result",
          "data": {
            "text/plain": [
              "<matplotlib.image.AxesImage at 0x7ff48e5c78e0>"
            ]
          },
          "metadata": {},
          "execution_count": 6
        },
        {
          "output_type": "display_data",
          "data": {
            "text/plain": [
              "<Figure size 1000x200 with 1 Axes>"
            ],
            "image/png": "[encoded data removed]"
          },
          "metadata": {}
        }
      ]
    },
    {
      "cell_type": "code",
      "source": [
        "plt.imshow(x_test[10])"
      ],
      "metadata": {
        "colab": {
          "base_uri": "https://localhost:8080/",
          "height": 452
        },
        "id": "PsVan7dNhA6t",
        "outputId": "079da02b-664a-429c-c6d7-6494b2a5c8c7"
      },
      "execution_count": 7,
      "outputs": [
        {
          "output_type": "execute_result",
          "data": {
            "text/plain": [
              "<matplotlib.image.AxesImage at 0x7ff48e28c8b0>"
            ]
          },
          "metadata": {},
          "execution_count": 7
        },
        {
          "output_type": "display_data",
          "data": {
            "text/plain": [
              "<Figure size 640x480 with 1 Axes>"
            ],
            "image/png": "[encoded data removed]"
          },
          "metadata": {}
        }
      ]
    },
    {
      "cell_type": "markdown",
      "source": [
        "Giving labels to the images in dataset .Labels are fetched from csv file)"
      ],
      "metadata": {
        "id": "MqM20pX5D2zi"
      }
    },
    {
      "cell_type": "code",
      "source": [
        "class_image=['line','dot_line','hbar_categorical','vbar_categorical','pie']\n",
        "\n",
        "\n",
        "label_map={'line':0,'dot_line':1,'hbar_categorical':2,'vbar_categorical':3,'pie':4}\n",
        "y_train=np.array([label_map[label] for label in train_val_labels['type']])\n"
      ],
      "metadata": {
        "id": "CV0LJPp4hE5y"
      },
      "execution_count": 8,
      "outputs": []
    },
    {
      "cell_type": "code",
      "source": [
        "def image_sample(x,y,index):\n",
        "  plt.figure(figsize=(10,2))\n",
        "  plt.imshow(x[index])\n",
        "  plt.xlabel(class_image[y[index]])\n",
        "\n"
      ],
      "metadata": {
        "id": "BTrFqyCzH3ms"
      },
      "execution_count": 9,
      "outputs": []
    },
    {
      "cell_type": "code",
      "source": [
        "image_sample(x_train,y_train,0)\n",
        "image_sample(x_train,y_train,188)\n",
        "image_sample(x_train,y_train,507)\n"
      ],
      "metadata": {
        "colab": {
          "base_uri": "https://localhost:8080/",
          "height": 683
        },
        "id": "miEJuDcwIJkM",
        "outputId": "29925634-9f97-45a7-ff57-c301d8ba7cb7"
      },
      "execution_count": 10,
      "outputs": [
        {
          "output_type": "display_data",
          "data": {
            "text/plain": [
              "<Figure size 1000x200 with 1 Axes>"
            ],
            "image/png": "[encoded data removed]"
          },
          "metadata": {}
        },
        {
          "output_type": "display_data",
          "data": {
            "text/plain": [
              "<Figure size 1000x200 with 1 Axes>"
            ],
            "image/png": "[encoded data removed]"
          },
          "metadata": {}
        },
        {
          "output_type": "display_data",
          "data": {
            "text/plain": [
              "<Figure size 1000x200 with 1 Axes>"
            ],
            "image/png": "[encoded data removed]"
          },
          "metadata": {}
        }
      ]
    },
    {
      "cell_type": "markdown",
      "source": [
        "Normalizing the dataset"
      ],
      "metadata": {
        "id": "zpjZtWJTESK5"
      }
    },
    {
      "cell_type": "code",
      "source": [
        "x_train=x_train/255\n",
        "x_test=x_test/255\n"
      ],
      "metadata": {
        "id": "IToM1nIQJVxn"
      },
      "execution_count": 11,
      "outputs": []
    },
    {
      "cell_type": "code",
      "source": [
        "y_train_index=train_val_labels['image_index']\n",
        "y_train_type=train_val_labels['type']\n"
      ],
      "metadata": {
        "id": "aS1VvwpIOISc"
      },
      "execution_count": 12,
      "outputs": []
    },
    {
      "cell_type": "markdown",
      "source": [
        "creating simple neural network"
      ],
      "metadata": {
        "id": "O_hPu3RYEWOm"
      }
    },
    {
      "cell_type": "code",
      "source": [
        "model=Sequential([Flatten(input_shape=(128,128,3)),\n",
        "                  Dense(3000,activation='relu'),\n",
        "                  Dense(1000,activation='relu'),\n",
        "                  Dense(5,activation='softmax')\n",
        "                  ])\n",
        "model.compile(optimizer='SGD',loss='sparse_categorical_crossentropy',metrics=['accuracy'])\n",
        "model.fit(x_train,y_train,epochs=10)\n"
      ],
      "metadata": {
        "colab": {
          "base_uri": "https://localhost:8080/"
        },
        "id": "1Yadr1owOVuf",
        "outputId": "e85f82b7-97c9-4530-a4b6-73955a15358c"
      },
      "execution_count": 13,
      "outputs": [
        {
          "output_type": "stream",
          "name": "stdout",
          "text": [
            "Epoch 1/10\n",
            "32/32 [==============================] - 6s 30ms/step - loss: 5.4405 - accuracy: 0.2320\n",
            "Epoch 2/10\n",
            "32/32 [==============================] - 1s 27ms/step - loss: 1.6168 - accuracy: 0.2300\n",
            "Epoch 3/10\n",
            "32/32 [==============================] - 1s 25ms/step - loss: 1.6064 - accuracy: 0.2390\n",
            "Epoch 4/10\n",
            "32/32 [==============================] - 1s 26ms/step - loss: 1.5939 - accuracy: 0.2690\n",
            "Epoch 5/10\n",
            "32/32 [==============================] - 1s 25ms/step - loss: 1.6023 - accuracy: 0.2870\n",
            "Epoch 6/10\n",
            "32/32 [==============================] - 1s 25ms/step - loss: 1.5901 - accuracy: 0.2790\n",
            "Epoch 7/10\n",
            "32/32 [==============================] - 1s 25ms/step - loss: 1.5824 - accuracy: 0.2880\n",
            "Epoch 8/10\n",
            "32/32 [==============================] - 1s 25ms/step - loss: 1.5875 - accuracy: 0.2750\n",
            "Epoch 9/10\n",
            "32/32 [==============================] - 1s 26ms/step - loss: 1.5886 - accuracy: 0.2530\n",
            "Epoch 10/10\n",
            "32/32 [==============================] - 1s 29ms/step - loss: 1.5561 - accuracy: 0.3010\n"
          ]
        },
        {
          "output_type": "execute_result",
          "data": {
            "text/plain": [
              "<keras.callbacks.History at 0x7ff4889e6650>"
            ]
          },
          "metadata": {},
          "execution_count": 13
        }
      ]
    },
    {
      "cell_type": "code",
      "source": [
        "from sklearn.model_selection import train_test_split\n",
        "x_train,x_test,y_train,y_test=train_test_split(x_train,y_train,test_size=0.2,random_state=42)\n"
      ],
      "metadata": {
        "id": "SfCte17QO8E_"
      },
      "execution_count": 14,
      "outputs": []
    },
    {
      "cell_type": "markdown",
      "source": [
        "Evaluating on test data"
      ],
      "metadata": {
        "id": "j1QW508UEbjM"
      }
    },
    {
      "cell_type": "code",
      "source": [
        "model.evaluate(x_test,y_test)"
      ],
      "metadata": {
        "colab": {
          "base_uri": "https://localhost:8080/"
        },
        "id": "njt0EpbpPp4S",
        "outputId": "cefa02b7-a0f2-47a0-aa41-369dae62cb0f"
      },
      "execution_count": 15,
      "outputs": [
        {
          "output_type": "stream",
          "name": "stdout",
          "text": [
            "7/7 [==============================] - 0s 8ms/step - loss: 1.5477 - accuracy: 0.2300\n"
          ]
        },
        {
          "output_type": "execute_result",
          "data": {
            "text/plain": [
              "[1.5477229356765747, 0.23000000417232513]"
            ]
          },
          "metadata": {},
          "execution_count": 15
        }
      ]
    },
    {
      "cell_type": "code",
      "source": [
        "y_predicted=model.predict(x_test)\n",
        "y_predicted"
      ],
      "metadata": {
        "colab": {
          "base_uri": "https://localhost:8080/"
        },
        "id": "v9imSRs-PwoB",
        "outputId": "a9b99c51-ad8b-43c4-b831-72546db61bc2"
      },
      "execution_count": 16,
      "outputs": [
        {
          "output_type": "stream",
          "name": "stdout",
          "text": [
            "7/7 [==============================] - 0s 7ms/step\n"
          ]
        },
        {
          "output_type": "execute_result",
          "data": {
            "text/plain": [
              "array([[0.21109667, 0.25127897, 0.17771229, 0.2144799 , 0.14543219],\n",
              "       [0.20610528, 0.24440263, 0.19737092, 0.18402693, 0.16809428],\n",
              "       [0.20994957, 0.2127904 , 0.21983707, 0.14197116, 0.21545182],\n",
              "       [0.2036142 , 0.2382462 , 0.20834456, 0.17329083, 0.17650421],\n",
              "       [0.20381653, 0.2400848 , 0.20901856, 0.18139479, 0.16568527],\n",
              "       [0.2090749 , 0.23852278, 0.19478892, 0.16977665, 0.1878368 ],\n",
              "       [0.20881635, 0.22361426, 0.1989407 , 0.1580491 , 0.21057962],\n",
              "       [0.2105175 , 0.2518646 , 0.1794825 , 0.21193759, 0.14619777],\n",
              "       [0.21118125, 0.25213704, 0.17722584, 0.21472645, 0.14472947],\n",
              "       [0.21480028, 0.2665821 , 0.15526055, 0.23805027, 0.12530683],\n",
              "       [0.20581435, 0.2403792 , 0.20406052, 0.17721844, 0.1725275 ],\n",
              "       [0.21410003, 0.276432  , 0.15156256, 0.23707962, 0.12082578],\n",
              "       [0.20874263, 0.23843072, 0.18859144, 0.17370409, 0.19053112],\n",
              "       [0.21074706, 0.25202924, 0.17868125, 0.21288535, 0.14565709],\n",
              "       [0.21001482, 0.24873129, 0.18180975, 0.21035998, 0.14908415],\n",
              "       [0.21158528, 0.25361443, 0.17550227, 0.21630792, 0.14299011],\n",
              "       [0.20245424, 0.23651494, 0.21284652, 0.17832951, 0.16985485],\n",
              "       [0.21158865, 0.25370756, 0.17546679, 0.21631207, 0.14292496],\n",
              "       [0.21073152, 0.25078577, 0.17901218, 0.21300817, 0.14646238],\n",
              "       [0.21154504, 0.25260434, 0.17589405, 0.21625327, 0.14370325],\n",
              "       [0.21075642, 0.25240424, 0.1785642 , 0.21287014, 0.145405  ],\n",
              "       [0.21513903, 0.2737292 , 0.15118562, 0.24015738, 0.11978884],\n",
              "       [0.20237811, 0.22815871, 0.21855587, 0.17365304, 0.17725424],\n",
              "       [0.21183442, 0.21771704, 0.24064305, 0.13372095, 0.1960845 ],\n",
              "       [0.20396324, 0.23162109, 0.21886644, 0.168545  , 0.17700426],\n",
              "       [0.20214882, 0.2268724 , 0.22601534, 0.16354834, 0.18141513],\n",
              "       [0.21474469, 0.26566288, 0.15852945, 0.23404092, 0.12702213],\n",
              "       [0.21173863, 0.2528953 , 0.1751939 , 0.21702921, 0.14314298],\n",
              "       [0.21070641, 0.2509417 , 0.17906363, 0.21287395, 0.14641435],\n",
              "       [0.2119502 , 0.25325933, 0.17440875, 0.21788545, 0.14249626],\n",
              "       [0.20324394, 0.24056311, 0.20955633, 0.17701238, 0.16962422],\n",
              "       [0.21470204, 0.2690252 , 0.15794696, 0.23301205, 0.12531376],\n",
              "       [0.20477466, 0.21836065, 0.22792725, 0.14398079, 0.20495662],\n",
              "       [0.21088648, 0.2524518 , 0.17810398, 0.21343741, 0.14512035],\n",
              "       [0.20338307, 0.22507943, 0.21546702, 0.17319167, 0.1828788 ],\n",
              "       [0.20333461, 0.2416336 , 0.20898817, 0.18058205, 0.16546156],\n",
              "       [0.2049258 , 0.24349004, 0.20061707, 0.18567836, 0.1652887 ],\n",
              "       [0.21037954, 0.2523756 , 0.17980158, 0.21131931, 0.14612398],\n",
              "       [0.2110756 , 0.25161767, 0.17770697, 0.21433373, 0.145266  ],\n",
              "       [0.21506278, 0.28305227, 0.13969445, 0.25284883, 0.10934168],\n",
              "       [0.20369804, 0.24278753, 0.20807774, 0.18008393, 0.16535275],\n",
              "       [0.21291657, 0.26623353, 0.1661478 , 0.2222073 , 0.13249482],\n",
              "       [0.20603359, 0.24437685, 0.19294827, 0.18713374, 0.16950747],\n",
              "       [0.21107976, 0.25240418, 0.17750263, 0.21424362, 0.14476982],\n",
              "       [0.20681159, 0.24842754, 0.19455259, 0.19480447, 0.15540375],\n",
              "       [0.2082588 , 0.2527983 , 0.18779851, 0.20119722, 0.14994721],\n",
              "       [0.21129443, 0.25314906, 0.17659873, 0.21508548, 0.14387226],\n",
              "       [0.20853445, 0.21501888, 0.22635137, 0.13935867, 0.21073668],\n",
              "       [0.21083467, 0.25132006, 0.17854027, 0.21338336, 0.14592165],\n",
              "       [0.21084869, 0.2516599 , 0.17841527, 0.21339189, 0.14568424],\n",
              "       [0.2103094 , 0.25092325, 0.18036975, 0.21122885, 0.14716874],\n",
              "       [0.21169262, 0.25282058, 0.17536217, 0.21684475, 0.14327994],\n",
              "       [0.20739657, 0.24653536, 0.19303872, 0.19739331, 0.15563601],\n",
              "       [0.21103205, 0.25240883, 0.17764872, 0.21405143, 0.14485894],\n",
              "       [0.2135607 , 0.266943  , 0.15857439, 0.23161526, 0.12930664],\n",
              "       [0.2127247 , 0.263657  , 0.16710053, 0.22196737, 0.13455036],\n",
              "       [0.21076643, 0.25308216, 0.17837434, 0.21281438, 0.14496265],\n",
              "       [0.21498789, 0.2794572 , 0.14186011, 0.25161493, 0.1120799 ],\n",
              "       [0.20493615, 0.23577835, 0.20404328, 0.18127647, 0.1739657 ],\n",
              "       [0.2054097 , 0.25265595, 0.18871894, 0.19123873, 0.16197668],\n",
              "       [0.20304295, 0.23972216, 0.21183723, 0.17794289, 0.16745475],\n",
              "       [0.21366826, 0.27494588, 0.13991278, 0.25825322, 0.11321986],\n",
              "       [0.21158507, 0.25310448, 0.17563589, 0.21636352, 0.14331101],\n",
              "       [0.20322831, 0.23655   , 0.20951784, 0.17871459, 0.17198928],\n",
              "       [0.20982346, 0.2506219 , 0.18217216, 0.20906907, 0.1483134 ],\n",
              "       [0.20614652, 0.23006745, 0.21020758, 0.16101484, 0.19256367],\n",
              "       [0.20334643, 0.23162697, 0.21881694, 0.16037852, 0.18583114],\n",
              "       [0.21082465, 0.25167423, 0.17849435, 0.21328068, 0.14572613],\n",
              "       [0.21499413, 0.26677456, 0.15511023, 0.23855004, 0.12457106],\n",
              "       [0.2115205 , 0.25353634, 0.1757342 , 0.21604088, 0.14316809],\n",
              "       [0.21521023, 0.2737458 , 0.14846756, 0.24466132, 0.11791511],\n",
              "       [0.21104166, 0.2536982 , 0.17727885, 0.21394995, 0.14403133],\n",
              "       [0.21058537, 0.25097123, 0.17947404, 0.21233906, 0.14663027],\n",
              "       [0.20917131, 0.2266063 , 0.19745603, 0.15757243, 0.20919399],\n",
              "       [0.2083697 , 0.25255612, 0.18723083, 0.2019945 , 0.14984883],\n",
              "       [0.20968401, 0.2585335 , 0.18102345, 0.20705757, 0.14370139],\n",
              "       [0.2055042 , 0.23784949, 0.20449637, 0.17936216, 0.17278782],\n",
              "       [0.2149254 , 0.2696123 , 0.150262  , 0.24436551, 0.12083477],\n",
              "       [0.21175773, 0.2527938 , 0.17515826, 0.2171209 , 0.14316933],\n",
              "       [0.21065979, 0.25191414, 0.17900912, 0.21251883, 0.14589807],\n",
              "       [0.20567264, 0.23571624, 0.2099041 , 0.16579442, 0.18291265],\n",
              "       [0.21466187, 0.27048704, 0.15630458, 0.2343721 , 0.12417445],\n",
              "       [0.20252323, 0.23207444, 0.21551792, 0.17522423, 0.17466024],\n",
              "       [0.21423948, 0.26456714, 0.16102411, 0.23074335, 0.12942587],\n",
              "       [0.20416169, 0.24090677, 0.20659028, 0.18309571, 0.16524558],\n",
              "       [0.2112837 , 0.25211394, 0.17688285, 0.21518525, 0.14453425],\n",
              "       [0.21105137, 0.2522214 , 0.17763798, 0.21414974, 0.14493948],\n",
              "       [0.20580827, 0.2321082 , 0.20102403, 0.18081914, 0.18024033],\n",
              "       [0.21171774, 0.25317636, 0.17518839, 0.21691038, 0.14300713],\n",
              "       [0.20431438, 0.23419298, 0.21020463, 0.173945  , 0.17734307],\n",
              "       [0.20184486, 0.22995561, 0.22616267, 0.16164428, 0.18039262],\n",
              "       [0.21170703, 0.2538955 , 0.17503436, 0.21678703, 0.1425761 ],\n",
              "       [0.21009368, 0.25097987, 0.18106124, 0.21034415, 0.14752106],\n",
              "       [0.20291242, 0.22561452, 0.22738391, 0.16181374, 0.18227541],\n",
              "       [0.21133433, 0.25276047, 0.17655662, 0.21531785, 0.14403073],\n",
              "       [0.21064255, 0.25282648, 0.17885181, 0.21231908, 0.14536007],\n",
              "       [0.20987566, 0.25075525, 0.18192866, 0.20932855, 0.14811191],\n",
              "       [0.21473964, 0.2742588 , 0.14436486, 0.2508025 , 0.11583421],\n",
              "       [0.21550117, 0.2814552 , 0.14521532, 0.24473158, 0.11309671],\n",
              "       [0.20699774, 0.24173002, 0.20313206, 0.17326769, 0.17487252],\n",
              "       [0.20422034, 0.24276793, 0.20594816, 0.17601627, 0.17104732],\n",
              "       [0.20254384, 0.22693583, 0.2246707 , 0.16622752, 0.1796221 ],\n",
              "       [0.21120673, 0.252425  , 0.1770713 , 0.21479753, 0.14449947],\n",
              "       [0.20215043, 0.2370145 , 0.21766734, 0.17263405, 0.17053373],\n",
              "       [0.2076583 , 0.25077376, 0.1790176 , 0.18862076, 0.17392956],\n",
              "       [0.20321165, 0.23527786, 0.21429019, 0.16985498, 0.17736529],\n",
              "       [0.21166894, 0.25201407, 0.17564543, 0.21683839, 0.14383316],\n",
              "       [0.21047789, 0.25236174, 0.17948589, 0.21171781, 0.14595667],\n",
              "       [0.21579674, 0.27035907, 0.15206012, 0.23987806, 0.12190603],\n",
              "       [0.21082866, 0.2522867 , 0.17834094, 0.21320629, 0.14533739],\n",
              "       [0.21139525, 0.25228363, 0.17646447, 0.21565588, 0.14420071],\n",
              "       [0.21099569, 0.25208545, 0.17784424, 0.21394344, 0.1451312 ],\n",
              "       [0.21142823, 0.25230646, 0.17634709, 0.21579938, 0.14411882],\n",
              "       [0.2108953 , 0.25200298, 0.17817728, 0.21354821, 0.14537624],\n",
              "       [0.21427603, 0.26454103, 0.1598236 , 0.23169689, 0.12966245],\n",
              "       [0.21078296, 0.25177243, 0.17861515, 0.21308224, 0.14574718],\n",
              "       [0.21432142, 0.2619436 , 0.16438031, 0.22630523, 0.13304944],\n",
              "       [0.21055482, 0.2517292 , 0.17939927, 0.21210329, 0.14621341],\n",
              "       [0.21063991, 0.2520493 , 0.17904755, 0.21241106, 0.14585216],\n",
              "       [0.20798147, 0.25677034, 0.1891284 , 0.19785914, 0.14826064],\n",
              "       [0.20944695, 0.24797302, 0.1840948 , 0.20776042, 0.1507248 ],\n",
              "       [0.21149753, 0.25328428, 0.17587441, 0.21597244, 0.14337133],\n",
              "       [0.20876285, 0.23670183, 0.20086546, 0.16761865, 0.18605125],\n",
              "       [0.20622665, 0.24583122, 0.19633956, 0.19375211, 0.15785037],\n",
              "       [0.20368119, 0.23877555, 0.20895556, 0.1809802 , 0.16760749],\n",
              "       [0.2109767 , 0.25096986, 0.17818664, 0.21400061, 0.1458662 ],\n",
              "       [0.20866884, 0.23366658, 0.19681934, 0.16674513, 0.19410008],\n",
              "       [0.21045315, 0.25121018, 0.17984314, 0.21176466, 0.1467289 ],\n",
              "       [0.21101315, 0.25329998, 0.17747241, 0.21387896, 0.14433551],\n",
              "       [0.21073274, 0.25096256, 0.1789689 , 0.21298592, 0.14634989],\n",
              "       [0.21105777, 0.25167707, 0.17775431, 0.21424514, 0.14526567],\n",
              "       [0.21292593, 0.25288785, 0.17164718, 0.22185116, 0.14068794],\n",
              "       [0.20277727, 0.24368249, 0.21178824, 0.176075  , 0.1656771 ],\n",
              "       [0.21141787, 0.25271773, 0.17628345, 0.21569513, 0.1438858 ],\n",
              "       [0.21038838, 0.25145122, 0.1799915 , 0.21147597, 0.14669293],\n",
              "       [0.21542378, 0.27503386, 0.15082131, 0.24027371, 0.11844733],\n",
              "       [0.21030413, 0.27035704, 0.16258785, 0.22228777, 0.13446319],\n",
              "       [0.2044413 , 0.24385713, 0.2061823 , 0.18275653, 0.16276282],\n",
              "       [0.21539415, 0.27109042, 0.15484922, 0.23571861, 0.1229476 ],\n",
              "       [0.21411526, 0.26728725, 0.16493966, 0.22250299, 0.1311549 ],\n",
              "       [0.21131842, 0.26114002, 0.17437646, 0.21430863, 0.13885649],\n",
              "       [0.20895371, 0.2531977 , 0.18657759, 0.20216356, 0.14910743],\n",
              "       [0.20830198, 0.23906367, 0.18480916, 0.17175938, 0.1960658 ],\n",
              "       [0.20719247, 0.2494472 , 0.18915717, 0.19516091, 0.1590423 ],\n",
              "       [0.21003279, 0.25192335, 0.18107386, 0.20991904, 0.14705096],\n",
              "       [0.2111696 , 0.2508116 , 0.17757206, 0.21487424, 0.1455725 ],\n",
              "       [0.20637475, 0.238562  , 0.20174547, 0.17278253, 0.18053527],\n",
              "       [0.20443223, 0.246878  , 0.20282446, 0.18348417, 0.16238113],\n",
              "       [0.20574258, 0.24869683, 0.19064546, 0.189661  , 0.16525412],\n",
              "       [0.21106772, 0.25157186, 0.17774451, 0.2143055 , 0.14531045],\n",
              "       [0.20845482, 0.22488049, 0.21234281, 0.1516535 , 0.20266832],\n",
              "       [0.21488447, 0.27373147, 0.14593764, 0.24864973, 0.11679671],\n",
              "       [0.21150143, 0.25241032, 0.17608407, 0.21609432, 0.14390984],\n",
              "       [0.21020496, 0.25226212, 0.18039851, 0.21062416, 0.14651024],\n",
              "       [0.21130265, 0.25375855, 0.17642409, 0.21503557, 0.14347912],\n",
              "       [0.21077558, 0.25083366, 0.17885104, 0.21319646, 0.14634326],\n",
              "       [0.21051951, 0.25008014, 0.17989247, 0.21219435, 0.14731357],\n",
              "       [0.20618923, 0.2445014 , 0.19870362, 0.18252075, 0.16808507],\n",
              "       [0.21517038, 0.26913545, 0.15631674, 0.23494934, 0.12442806],\n",
              "       [0.2105412 , 0.25228912, 0.17930342, 0.21197946, 0.14588678],\n",
              "       [0.2105003 , 0.250879  , 0.17977646, 0.21199462, 0.1468496 ],\n",
              "       [0.21092753, 0.25197732, 0.17808071, 0.2136859 , 0.14532855],\n",
              "       [0.20393693, 0.2460841 , 0.20365277, 0.18065651, 0.16566966],\n",
              "       [0.20607875, 0.23966712, 0.20227745, 0.17480688, 0.17716976],\n",
              "       [0.21172085, 0.2530077 , 0.17522223, 0.21694215, 0.14310706],\n",
              "       [0.2009796 , 0.23419732, 0.22408074, 0.1651588 , 0.17558351],\n",
              "       [0.2026062 , 0.2391815 , 0.21204458, 0.17770521, 0.16846246],\n",
              "       [0.20723231, 0.22895658, 0.21315256, 0.15507084, 0.19558765],\n",
              "       [0.21063013, 0.2531194 , 0.17881684, 0.21223441, 0.14519924],\n",
              "       [0.20664863, 0.2538286 , 0.19296181, 0.1933831 , 0.15317789],\n",
              "       [0.20426396, 0.24488932, 0.2042834 , 0.18442266, 0.16214073],\n",
              "       [0.21126634, 0.25317943, 0.17668825, 0.21495464, 0.14391132],\n",
              "       [0.2114941 , 0.25878003, 0.1744465 , 0.2153042 , 0.13997518],\n",
              "       [0.211007  , 0.25179183, 0.17788541, 0.2140217 , 0.14529406],\n",
              "       [0.21168022, 0.25310048, 0.17532954, 0.21676162, 0.14312813],\n",
              "       [0.20572285, 0.24936736, 0.19689785, 0.1916785 , 0.15633342],\n",
              "       [0.20601839, 0.25072217, 0.20315893, 0.18736222, 0.15273833],\n",
              "       [0.21523905, 0.26769054, 0.1526698 , 0.2411971 , 0.12320351],\n",
              "       [0.2065553 , 0.25733942, 0.188426  , 0.19622123, 0.15145798],\n",
              "       [0.2087304 , 0.2310866 , 0.20530258, 0.15688093, 0.19799948],\n",
              "       [0.21127422, 0.25201315, 0.17693883, 0.21515782, 0.14461598],\n",
              "       [0.21020927, 0.21583377, 0.20786399, 0.14447674, 0.22161624],\n",
              "       [0.20501658, 0.2407512 , 0.20329176, 0.18387567, 0.16706476],\n",
              "       [0.21076797, 0.25086695, 0.17886955, 0.21315666, 0.14633888],\n",
              "       [0.20637387, 0.2524363 , 0.19247167, 0.19452111, 0.15419704],\n",
              "       [0.21497422, 0.2841355 , 0.14886202, 0.23555763, 0.11647061],\n",
              "       [0.20651321, 0.22622569, 0.21151401, 0.16419142, 0.19155571],\n",
              "       [0.2039314 , 0.24076314, 0.20819657, 0.18150063, 0.1656082 ],\n",
              "       [0.21095058, 0.25227967, 0.1779319 , 0.21374288, 0.14509493],\n",
              "       [0.21067172, 0.25158778, 0.1790406 , 0.21262126, 0.14607866],\n",
              "       [0.21168713, 0.2526963 , 0.17541197, 0.21683586, 0.14336877],\n",
              "       [0.20792153, 0.24292515, 0.18842837, 0.17383724, 0.18688759],\n",
              "       [0.20231724, 0.2183658 , 0.23715732, 0.14353435, 0.19862525],\n",
              "       [0.20555164, 0.24478152, 0.19935335, 0.18785241, 0.16246118],\n",
              "       [0.20131817, 0.22815841, 0.22134596, 0.16924182, 0.17993563],\n",
              "       [0.20581463, 0.24194917, 0.20428175, 0.18452182, 0.16343264],\n",
              "       [0.21193513, 0.25374246, 0.1743333 , 0.21776503, 0.14222407],\n",
              "       [0.20433684, 0.24250147, 0.20506519, 0.18432733, 0.1637691 ],\n",
              "       [0.21126665, 0.25351977, 0.17660585, 0.21490712, 0.14370069],\n",
              "       [0.2155855 , 0.27491158, 0.14848445, 0.24344338, 0.11757507]],\n",
              "      dtype=float32)"
            ]
          },
          "metadata": {},
          "execution_count": 16
        }
      ]
    },
    {
      "cell_type": "code",
      "source": [],
      "metadata": {
        "id": "BWs1DDrUP1Bz"
      },
      "execution_count": null,
      "outputs": []
    },
    {
      "cell_type": "code",
      "source": [
        "y_predicted_classes=[np.argmax(ele) for ele in y_predicted]"
      ],
      "metadata": {
        "id": "SHgnpzLKP3LW"
      },
      "execution_count": 17,
      "outputs": []
    },
    {
      "cell_type": "markdown",
      "source": [
        "Modifying the model to CNN"
      ],
      "metadata": {
        "id": "BfDMdEnBEgml"
      }
    },
    {
      "cell_type": "code",
      "source": [
        "cnn_model=Sequential([Conv2D(filters=16,kernel_size=(3,3),activation='relu',input_shape=(128,128,3)),\n",
        "                      MaxPooling2D(pool_size=(2,2)),\n",
        "                      Conv2D(32,(3,3),activation='relu'),\n",
        "                      MaxPooling2D(pool_size=(2,2)),\n",
        "                      Conv2D(64,(3,3),activation='relu'),\n",
        "                      MaxPooling2D(pool_size=(2,2)),\n",
        "                      Flatten(),\n",
        "                      Dense(128,activation='relu'),\n",
        "                      Dense(5,activation='softmax')\n",
        "                      ])\n",
        "\n",
        "cnn_model.compile(optimizer='adam',loss='sparse_categorical_crossentropy',metrics=['accuracy'])\n",
        "history=cnn_model.fit(x_train,y_train,batch_size=1000,epochs=100,validation_data=(x_test,y_test))\n",
        "\n",
        "\n",
        "\n",
        "plt.plot(history.history['loss'])\n",
        "plt.plot(history.history['val_loss'])\n",
        "plt.title('Model Loss')\n",
        "plt.ylabel('Loss')\n",
        "plt.xlabel('Epoch')\n",
        "plt.legend(['Train','Validation'],loc='upper right')\n",
        "plt.show()"
      ],
      "metadata": {
        "colab": {
          "base_uri": "https://localhost:8080/",
          "height": 1000
        },
        "id": "bNegNO-yQAXk",
        "outputId": "71b441d5-dfe2-4fca-a3df-198b9585bcf8"
      },
      "execution_count": 19,
      "outputs": [
        {
          "output_type": "stream",
          "name": "stdout",
          "text": [
            "Epoch 1/100\n",
            "1/1 [==============================] - 2s 2s/step - loss: 1.6220 - accuracy: 0.1587 - val_loss: 2.6853 - val_accuracy: 0.1850\n",
            "Epoch 2/100\n",
            "1/1 [==============================] - 0s 343ms/step - loss: 2.4384 - accuracy: 0.2037 - val_loss: 1.8002 - val_accuracy: 0.1900\n",
            "Epoch 3/100\n",
            "1/1 [==============================] - 0s 264ms/step - loss: 1.7694 - accuracy: 0.2025 - val_loss: 1.6416 - val_accuracy: 0.3700\n",
            "Epoch 4/100\n",
            "1/1 [==============================] - 0s 278ms/step - loss: 1.6877 - accuracy: 0.3300 - val_loss: 1.5890 - val_accuracy: 0.2400\n",
            "Epoch 5/100\n",
            "1/1 [==============================] - 0s 256ms/step - loss: 1.6296 - accuracy: 0.1900 - val_loss: 1.5474 - val_accuracy: 0.2400\n",
            "Epoch 6/100\n",
            "1/1 [==============================] - 0s 292ms/step - loss: 1.5710 - accuracy: 0.1900 - val_loss: 1.5255 - val_accuracy: 0.2450\n",
            "Epoch 7/100\n",
            "1/1 [==============================] - 0s 262ms/step - loss: 1.5346 - accuracy: 0.1963 - val_loss: 1.5029 - val_accuracy: 0.3800\n",
            "Epoch 8/100\n",
            "1/1 [==============================] - 0s 280ms/step - loss: 1.4986 - accuracy: 0.3750 - val_loss: 1.4737 - val_accuracy: 0.4250\n",
            "Epoch 9/100\n",
            "1/1 [==============================] - 0s 268ms/step - loss: 1.4620 - accuracy: 0.4675 - val_loss: 1.4381 - val_accuracy: 0.5100\n",
            "Epoch 10/100\n",
            "1/1 [==============================] - 0s 262ms/step - loss: 1.4218 - accuracy: 0.5938 - val_loss: 1.3927 - val_accuracy: 0.5200\n",
            "Epoch 11/100\n",
            "1/1 [==============================] - 0s 279ms/step - loss: 1.3689 - accuracy: 0.5875 - val_loss: 1.3324 - val_accuracy: 0.6000\n",
            "Epoch 12/100\n",
            "1/1 [==============================] - 0s 263ms/step - loss: 1.3008 - accuracy: 0.6687 - val_loss: 1.2568 - val_accuracy: 0.6450\n",
            "Epoch 13/100\n",
            "1/1 [==============================] - 0s 281ms/step - loss: 1.2208 - accuracy: 0.6938 - val_loss: 1.1762 - val_accuracy: 0.6500\n",
            "Epoch 14/100\n",
            "1/1 [==============================] - 0s 266ms/step - loss: 1.1333 - accuracy: 0.7038 - val_loss: 1.0963 - val_accuracy: 0.6750\n",
            "Epoch 15/100\n",
            "1/1 [==============================] - 0s 261ms/step - loss: 1.0452 - accuracy: 0.7312 - val_loss: 1.0328 - val_accuracy: 0.6300\n",
            "Epoch 16/100\n",
            "1/1 [==============================] - 0s 298ms/step - loss: 0.9623 - accuracy: 0.7188 - val_loss: 0.9736 - val_accuracy: 0.6850\n",
            "Epoch 17/100\n",
            "1/1 [==============================] - 0s 314ms/step - loss: 0.8929 - accuracy: 0.7600 - val_loss: 0.9495 - val_accuracy: 0.6600\n",
            "Epoch 18/100\n",
            "1/1 [==============================] - 0s 292ms/step - loss: 0.8419 - accuracy: 0.7588 - val_loss: 0.9289 - val_accuracy: 0.6850\n",
            "Epoch 19/100\n",
            "1/1 [==============================] - 0s 360ms/step - loss: 0.8076 - accuracy: 0.7625 - val_loss: 0.9912 - val_accuracy: 0.6400\n",
            "Epoch 20/100\n",
            "1/1 [==============================] - 0s 319ms/step - loss: 0.8008 - accuracy: 0.7375 - val_loss: 1.1294 - val_accuracy: 0.6500\n",
            "Epoch 21/100\n",
            "1/1 [==============================] - 0s 313ms/step - loss: 0.9958 - accuracy: 0.6675 - val_loss: 1.1933 - val_accuracy: 0.5700\n",
            "Epoch 22/100\n",
            "1/1 [==============================] - 0s 292ms/step - loss: 0.9260 - accuracy: 0.6637 - val_loss: 1.0416 - val_accuracy: 0.6150\n",
            "Epoch 23/100\n",
            "1/1 [==============================] - 0s 310ms/step - loss: 0.8149 - accuracy: 0.7000 - val_loss: 0.9279 - val_accuracy: 0.6800\n",
            "Epoch 24/100\n",
            "1/1 [==============================] - 0s 301ms/step - loss: 0.7825 - accuracy: 0.7225 - val_loss: 0.9593 - val_accuracy: 0.6600\n",
            "Epoch 25/100\n",
            "1/1 [==============================] - 0s 321ms/step - loss: 0.8158 - accuracy: 0.6775 - val_loss: 0.8796 - val_accuracy: 0.6850\n",
            "Epoch 26/100\n",
            "1/1 [==============================] - 0s 323ms/step - loss: 0.7132 - accuracy: 0.7750 - val_loss: 0.9238 - val_accuracy: 0.6300\n",
            "Epoch 27/100\n",
            "1/1 [==============================] - 0s 304ms/step - loss: 0.7335 - accuracy: 0.7312 - val_loss: 0.9370 - val_accuracy: 0.6050\n",
            "Epoch 28/100\n",
            "1/1 [==============================] - 0s 265ms/step - loss: 0.7489 - accuracy: 0.7138 - val_loss: 0.8694 - val_accuracy: 0.6500\n",
            "Epoch 29/100\n",
            "1/1 [==============================] - 0s 260ms/step - loss: 0.7025 - accuracy: 0.7588 - val_loss: 0.8398 - val_accuracy: 0.7100\n",
            "Epoch 30/100\n",
            "1/1 [==============================] - 0s 258ms/step - loss: 0.6888 - accuracy: 0.7912 - val_loss: 0.8535 - val_accuracy: 0.7000\n",
            "Epoch 31/100\n",
            "1/1 [==============================] - 0s 263ms/step - loss: 0.6974 - accuracy: 0.7538 - val_loss: 0.8574 - val_accuracy: 0.6800\n",
            "Epoch 32/100\n",
            "1/1 [==============================] - 0s 260ms/step - loss: 0.6842 - accuracy: 0.7475 - val_loss: 0.8439 - val_accuracy: 0.7150\n",
            "Epoch 33/100\n",
            "1/1 [==============================] - 0s 268ms/step - loss: 0.6554 - accuracy: 0.7837 - val_loss: 0.8480 - val_accuracy: 0.6800\n",
            "Epoch 34/100\n",
            "1/1 [==============================] - 0s 278ms/step - loss: 0.6445 - accuracy: 0.8037 - val_loss: 0.8587 - val_accuracy: 0.7100\n",
            "Epoch 35/100\n",
            "1/1 [==============================] - 0s 261ms/step - loss: 0.6419 - accuracy: 0.7912 - val_loss: 0.8547 - val_accuracy: 0.7050\n",
            "Epoch 36/100\n",
            "1/1 [==============================] - 0s 280ms/step - loss: 0.6246 - accuracy: 0.8062 - val_loss: 0.8466 - val_accuracy: 0.7250\n",
            "Epoch 37/100\n",
            "1/1 [==============================] - 0s 267ms/step - loss: 0.6018 - accuracy: 0.8087 - val_loss: 0.8553 - val_accuracy: 0.7150\n",
            "Epoch 38/100\n",
            "1/1 [==============================] - 0s 275ms/step - loss: 0.5962 - accuracy: 0.7862 - val_loss: 0.8612 - val_accuracy: 0.7050\n",
            "Epoch 39/100\n",
            "1/1 [==============================] - 0s 262ms/step - loss: 0.5892 - accuracy: 0.7887 - val_loss: 0.8491 - val_accuracy: 0.7000\n",
            "Epoch 40/100\n",
            "1/1 [==============================] - 0s 262ms/step - loss: 0.5667 - accuracy: 0.8087 - val_loss: 0.8465 - val_accuracy: 0.7250\n",
            "Epoch 41/100\n",
            "1/1 [==============================] - 0s 264ms/step - loss: 0.5531 - accuracy: 0.8188 - val_loss: 0.8506 - val_accuracy: 0.7350\n",
            "Epoch 42/100\n",
            "1/1 [==============================] - 0s 279ms/step - loss: 0.5469 - accuracy: 0.8175 - val_loss: 0.8410 - val_accuracy: 0.7250\n",
            "Epoch 43/100\n",
            "1/1 [==============================] - 0s 269ms/step - loss: 0.5301 - accuracy: 0.8238 - val_loss: 0.8500 - val_accuracy: 0.7100\n",
            "Epoch 44/100\n",
            "1/1 [==============================] - 0s 264ms/step - loss: 0.5293 - accuracy: 0.8175 - val_loss: 0.8360 - val_accuracy: 0.7100\n",
            "Epoch 45/100\n",
            "1/1 [==============================] - 0s 263ms/step - loss: 0.5081 - accuracy: 0.8338 - val_loss: 0.8427 - val_accuracy: 0.7350\n",
            "Epoch 46/100\n",
            "1/1 [==============================] - 0s 265ms/step - loss: 0.5032 - accuracy: 0.8238 - val_loss: 0.8391 - val_accuracy: 0.7300\n",
            "Epoch 47/100\n",
            "1/1 [==============================] - 0s 284ms/step - loss: 0.4894 - accuracy: 0.8388 - val_loss: 0.8387 - val_accuracy: 0.7100\n",
            "Epoch 48/100\n",
            "1/1 [==============================] - 0s 266ms/step - loss: 0.4805 - accuracy: 0.8438 - val_loss: 0.8383 - val_accuracy: 0.7200\n",
            "Epoch 49/100\n",
            "1/1 [==============================] - 0s 272ms/step - loss: 0.4692 - accuracy: 0.8487 - val_loss: 0.8445 - val_accuracy: 0.7450\n",
            "Epoch 50/100\n",
            "1/1 [==============================] - 0s 249ms/step - loss: 0.4612 - accuracy: 0.8512 - val_loss: 0.8458 - val_accuracy: 0.7400\n",
            "Epoch 51/100\n",
            "1/1 [==============================] - 0s 262ms/step - loss: 0.4486 - accuracy: 0.8512 - val_loss: 0.8433 - val_accuracy: 0.7250\n",
            "Epoch 52/100\n",
            "1/1 [==============================] - 0s 265ms/step - loss: 0.4397 - accuracy: 0.8562 - val_loss: 0.8336 - val_accuracy: 0.7350\n",
            "Epoch 53/100\n",
            "1/1 [==============================] - 0s 288ms/step - loss: 0.4270 - accuracy: 0.8537 - val_loss: 0.8395 - val_accuracy: 0.7500\n",
            "Epoch 54/100\n",
            "1/1 [==============================] - 0s 266ms/step - loss: 0.4194 - accuracy: 0.8575 - val_loss: 0.8360 - val_accuracy: 0.7450\n",
            "Epoch 55/100\n",
            "1/1 [==============================] - 0s 266ms/step - loss: 0.4055 - accuracy: 0.8662 - val_loss: 0.8291 - val_accuracy: 0.7450\n",
            "Epoch 56/100\n",
            "1/1 [==============================] - 0s 291ms/step - loss: 0.3968 - accuracy: 0.8662 - val_loss: 0.8237 - val_accuracy: 0.7550\n",
            "Epoch 57/100\n",
            "1/1 [==============================] - 0s 270ms/step - loss: 0.3891 - accuracy: 0.8700 - val_loss: 0.8207 - val_accuracy: 0.7550\n",
            "Epoch 58/100\n",
            "1/1 [==============================] - 0s 267ms/step - loss: 0.3757 - accuracy: 0.8763 - val_loss: 0.8230 - val_accuracy: 0.7550\n",
            "Epoch 59/100\n",
            "1/1 [==============================] - 0s 264ms/step - loss: 0.3664 - accuracy: 0.8850 - val_loss: 0.8226 - val_accuracy: 0.7650\n",
            "Epoch 60/100\n",
            "1/1 [==============================] - 0s 290ms/step - loss: 0.3591 - accuracy: 0.8888 - val_loss: 0.8197 - val_accuracy: 0.7450\n",
            "Epoch 61/100\n",
            "1/1 [==============================] - 0s 268ms/step - loss: 0.3484 - accuracy: 0.8900 - val_loss: 0.8313 - val_accuracy: 0.7600\n",
            "Epoch 62/100\n",
            "1/1 [==============================] - 0s 268ms/step - loss: 0.3386 - accuracy: 0.9025 - val_loss: 0.8246 - val_accuracy: 0.7650\n",
            "Epoch 63/100\n",
            "1/1 [==============================] - 0s 283ms/step - loss: 0.3289 - accuracy: 0.9013 - val_loss: 0.8204 - val_accuracy: 0.7550\n",
            "Epoch 64/100\n",
            "1/1 [==============================] - 0s 299ms/step - loss: 0.3212 - accuracy: 0.9087 - val_loss: 0.8347 - val_accuracy: 0.7600\n",
            "Epoch 65/100\n",
            "1/1 [==============================] - 0s 337ms/step - loss: 0.3142 - accuracy: 0.9075 - val_loss: 0.8205 - val_accuracy: 0.7700\n",
            "Epoch 66/100\n",
            "1/1 [==============================] - 0s 319ms/step - loss: 0.3037 - accuracy: 0.9150 - val_loss: 0.8209 - val_accuracy: 0.7700\n",
            "Epoch 67/100\n",
            "1/1 [==============================] - 0s 320ms/step - loss: 0.2945 - accuracy: 0.9137 - val_loss: 0.8280 - val_accuracy: 0.7650\n",
            "Epoch 68/100\n",
            "1/1 [==============================] - 0s 333ms/step - loss: 0.2852 - accuracy: 0.9162 - val_loss: 0.8289 - val_accuracy: 0.7650\n",
            "Epoch 69/100\n",
            "1/1 [==============================] - 0s 291ms/step - loss: 0.2772 - accuracy: 0.9187 - val_loss: 0.8381 - val_accuracy: 0.7650\n",
            "Epoch 70/100\n",
            "1/1 [==============================] - 0s 326ms/step - loss: 0.2719 - accuracy: 0.9200 - val_loss: 0.8486 - val_accuracy: 0.7400\n",
            "Epoch 71/100\n",
            "1/1 [==============================] - 0s 320ms/step - loss: 0.2795 - accuracy: 0.9150 - val_loss: 0.9574 - val_accuracy: 0.7400\n",
            "Epoch 72/100\n",
            "1/1 [==============================] - 0s 302ms/step - loss: 0.3228 - accuracy: 0.8850 - val_loss: 0.8729 - val_accuracy: 0.7400\n",
            "Epoch 73/100\n",
            "1/1 [==============================] - 0s 334ms/step - loss: 0.2705 - accuracy: 0.9225 - val_loss: 0.8422 - val_accuracy: 0.7600\n",
            "Epoch 74/100\n",
            "1/1 [==============================] - 0s 323ms/step - loss: 0.2499 - accuracy: 0.9388 - val_loss: 0.8962 - val_accuracy: 0.7700\n",
            "Epoch 75/100\n",
            "1/1 [==============================] - 0s 289ms/step - loss: 0.2635 - accuracy: 0.9187 - val_loss: 0.8743 - val_accuracy: 0.7650\n",
            "Epoch 76/100\n",
            "1/1 [==============================] - 0s 270ms/step - loss: 0.2387 - accuracy: 0.9312 - val_loss: 0.8794 - val_accuracy: 0.7400\n",
            "Epoch 77/100\n",
            "1/1 [==============================] - 0s 264ms/step - loss: 0.2450 - accuracy: 0.9312 - val_loss: 0.8823 - val_accuracy: 0.7500\n",
            "Epoch 78/100\n",
            "1/1 [==============================] - 0s 275ms/step - loss: 0.2382 - accuracy: 0.9337 - val_loss: 0.8788 - val_accuracy: 0.7650\n",
            "Epoch 79/100\n",
            "1/1 [==============================] - 0s 283ms/step - loss: 0.2212 - accuracy: 0.9425 - val_loss: 0.8990 - val_accuracy: 0.7600\n",
            "Epoch 80/100\n",
            "1/1 [==============================] - 0s 286ms/step - loss: 0.2289 - accuracy: 0.9400 - val_loss: 0.8756 - val_accuracy: 0.7700\n",
            "Epoch 81/100\n",
            "1/1 [==============================] - 0s 265ms/step - loss: 0.2052 - accuracy: 0.9475 - val_loss: 0.9069 - val_accuracy: 0.7600\n",
            "Epoch 82/100\n",
            "1/1 [==============================] - 0s 265ms/step - loss: 0.2144 - accuracy: 0.9413 - val_loss: 0.8935 - val_accuracy: 0.7750\n",
            "Epoch 83/100\n",
            "1/1 [==============================] - 0s 268ms/step - loss: 0.1949 - accuracy: 0.9525 - val_loss: 0.9222 - val_accuracy: 0.7550\n",
            "Epoch 84/100\n",
            "1/1 [==============================] - 0s 263ms/step - loss: 0.2018 - accuracy: 0.9475 - val_loss: 0.9208 - val_accuracy: 0.7600\n",
            "Epoch 85/100\n",
            "1/1 [==============================] - 0s 284ms/step - loss: 0.1893 - accuracy: 0.9525 - val_loss: 0.9252 - val_accuracy: 0.7550\n",
            "Epoch 86/100\n",
            "1/1 [==============================] - 0s 293ms/step - loss: 0.1868 - accuracy: 0.9525 - val_loss: 0.9276 - val_accuracy: 0.7500\n",
            "Epoch 87/100\n",
            "1/1 [==============================] - 0s 267ms/step - loss: 0.1812 - accuracy: 0.9513 - val_loss: 0.9419 - val_accuracy: 0.7700\n",
            "Epoch 88/100\n",
            "1/1 [==============================] - 0s 266ms/step - loss: 0.1742 - accuracy: 0.9513 - val_loss: 0.9540 - val_accuracy: 0.7700\n",
            "Epoch 89/100\n",
            "1/1 [==============================] - 0s 264ms/step - loss: 0.1713 - accuracy: 0.9575 - val_loss: 0.9445 - val_accuracy: 0.7650\n",
            "Epoch 90/100\n",
            "1/1 [==============================] - 0s 290ms/step - loss: 0.1645 - accuracy: 0.9563 - val_loss: 0.9580 - val_accuracy: 0.7450\n",
            "Epoch 91/100\n",
            "1/1 [==============================] - 0s 265ms/step - loss: 0.1616 - accuracy: 0.9588 - val_loss: 0.9829 - val_accuracy: 0.7750\n",
            "Epoch 92/100\n",
            "1/1 [==============================] - 0s 269ms/step - loss: 0.1565 - accuracy: 0.9588 - val_loss: 0.9846 - val_accuracy: 0.7750\n",
            "Epoch 93/100\n",
            "1/1 [==============================] - 0s 285ms/step - loss: 0.1510 - accuracy: 0.9600 - val_loss: 0.9771 - val_accuracy: 0.7500\n",
            "Epoch 94/100\n",
            "1/1 [==============================] - 0s 261ms/step - loss: 0.1488 - accuracy: 0.9600 - val_loss: 0.9913 - val_accuracy: 0.7600\n",
            "Epoch 95/100\n",
            "1/1 [==============================] - 0s 264ms/step - loss: 0.1412 - accuracy: 0.9613 - val_loss: 1.0199 - val_accuracy: 0.7750\n",
            "Epoch 96/100\n",
            "1/1 [==============================] - 0s 263ms/step - loss: 0.1407 - accuracy: 0.9638 - val_loss: 1.0097 - val_accuracy: 0.7700\n",
            "Epoch 97/100\n",
            "1/1 [==============================] - 0s 266ms/step - loss: 0.1333 - accuracy: 0.9638 - val_loss: 1.0108 - val_accuracy: 0.7600\n",
            "Epoch 98/100\n",
            "1/1 [==============================] - 0s 283ms/step - loss: 0.1328 - accuracy: 0.9663 - val_loss: 1.0312 - val_accuracy: 0.7650\n",
            "Epoch 99/100\n",
            "1/1 [==============================] - 0s 261ms/step - loss: 0.1265 - accuracy: 0.9675 - val_loss: 1.0494 - val_accuracy: 0.7650\n",
            "Epoch 100/100\n",
            "1/1 [==============================] - 0s 278ms/step - loss: 0.1242 - accuracy: 0.9663 - val_loss: 1.0431 - val_accuracy: 0.7600\n"
          ]
        },
        {
          "output_type": "display_data",
          "data": {
            "text/plain": [
              "<Figure size 640x480 with 1 Axes>"
            ],
            "image/png": "[encoded data removed]"
          },
          "metadata": {}
        }
      ]
    },
    {
      "cell_type": "code",
      "source": [
        "cnn_model.evaluate(x_test,y_test)"
      ],
      "metadata": {
        "colab": {
          "base_uri": "https://localhost:8080/"
        },
        "id": "RcxaOb3-STBF",
        "outputId": "240306c2-e539-48aa-ba58-0355ac14b548"
      },
      "execution_count": 20,
      "outputs": [
        {
          "output_type": "stream",
          "name": "stdout",
          "text": [
            "7/7 [==============================] - 0s 22ms/step - loss: 1.0431 - accuracy: 0.7600\n"
          ]
        },
        {
          "output_type": "execute_result",
          "data": {
            "text/plain": [
              "[1.0431249141693115, 0.7599999904632568]"
            ]
          },
          "metadata": {},
          "execution_count": 20
        }
      ]
    },
    {
      "cell_type": "code",
      "source": [
        "y_predicted=cnn_model.predict(x_test)\n",
        "y_predicted[:5]"
      ],
      "metadata": {
        "colab": {
          "base_uri": "https://localhost:8080/"
        },
        "id": "co0nAHllSe7R",
        "outputId": "551c0290-8f1e-4e92-cac9-7bf1c0e19244"
      },
      "execution_count": 21,
      "outputs": [
        {
          "output_type": "stream",
          "name": "stdout",
          "text": [
            "7/7 [==============================] - 0s 5ms/step\n"
          ]
        },
        {
          "output_type": "execute_result",
          "data": {
            "text/plain": [
              "array([[6.2565649e-01, 1.8550304e-01, 1.5129626e-02, 6.3005915e-05,\n",
              "        1.7364790e-01],\n",
              "       [1.2042123e-04, 6.0039143e-05, 3.1900964e-07, 8.6727056e-07,\n",
              "        9.9981838e-01],\n",
              "       [4.6340120e-04, 3.6770357e-03, 7.3879182e-06, 1.8768186e-06,\n",
              "        9.9585032e-01],\n",
              "       [2.2074567e-02, 6.2706685e-01, 3.8094906e-05, 3.6172646e-06,\n",
              "        3.5081694e-01],\n",
              "       [4.8797239e-05, 1.4507813e-06, 9.9994528e-01, 2.0920467e-07,\n",
              "        4.1189264e-06]], dtype=float32)"
            ]
          },
          "metadata": {},
          "execution_count": 21
        }
      ]
    },
    {
      "cell_type": "code",
      "source": [
        "y_classes=[np.argmax(element) for element in y_predicted]\n",
        "y_classes[:5]"
      ],
      "metadata": {
        "colab": {
          "base_uri": "https://localhost:8080/"
        },
        "id": "RFIGO96wTKHM",
        "outputId": "a8d7531d-5f91-43eb-edd9-8c49c04fd9eb"
      },
      "execution_count": 22,
      "outputs": [
        {
          "output_type": "execute_result",
          "data": {
            "text/plain": [
              "[0, 4, 4, 1, 2]"
            ]
          },
          "metadata": {},
          "execution_count": 22
        }
      ]
    },
    {
      "cell_type": "markdown",
      "source": [
        "Observations"
      ],
      "metadata": {
        "id": "BYKLlBPtEvSY"
      }
    },
    {
      "cell_type": "code",
      "source": [
        "print('classification_report',classification_report(y_test,y_classes))"
      ],
      "metadata": {
        "colab": {
          "base_uri": "https://localhost:8080/"
        },
        "id": "8jRfM6WbSsHY",
        "outputId": "e0fbb17e-4441-4d3f-d1f9-e3fbd4c42ffe"
      },
      "execution_count": 23,
      "outputs": [
        {
          "output_type": "stream",
          "name": "stdout",
          "text": [
            "classification_report               precision    recall  f1-score   support\n",
            "\n",
            "           0       0.62      0.76      0.68        37\n",
            "           1       0.77      0.61      0.68        44\n",
            "           2       0.91      0.81      0.86        48\n",
            "           3       0.94      0.94      0.94        33\n",
            "           4       0.61      0.71      0.66        38\n",
            "\n",
            "    accuracy                           0.76       200\n",
            "   macro avg       0.77      0.77      0.76       200\n",
            "weighted avg       0.77      0.76      0.76       200\n",
            "\n"
          ]
        }
      ]
    },
    {
      "cell_type": "code",
      "source": [
        "confusion_matrix=confusion_matrix(y_test,y_classes)\n",
        "print(confusion_matrix)"
      ],
      "metadata": {
        "colab": {
          "base_uri": "https://localhost:8080/"
        },
        "id": "ABwkJ5huTVOH",
        "outputId": "5b76a8a2-04b6-456e-b33b-daac6ec430a5"
      },
      "execution_count": 24,
      "outputs": [
        {
          "output_type": "stream",
          "name": "stdout",
          "text": [
            "[[28  2  2  0  5]\n",
            " [ 6 27  0  0 11]\n",
            " [ 6  0 39  2  1]\n",
            " [ 0  0  2 31  0]\n",
            " [ 5  6  0  0 27]]\n"
          ]
        }
      ]
    },
    {
      "cell_type": "code",
      "source": [
        "import seaborn as sns\n",
        "plt.figure(figsize=(10,10))\n",
        "sns.heatmap(confusion_matrix,annot=True,fmt='d')\n",
        "plt.xlabel('Predicted')\n",
        "plt.ylabel('Actual')"
      ],
      "metadata": {
        "colab": {
          "base_uri": "https://localhost:8080/",
          "height": 868
        },
        "id": "6J5453boTiKL",
        "outputId": "9cd7378b-54dc-4431-ba5f-d65859f8cec8"
      },
      "execution_count": 26,
      "outputs": [
        {
          "output_type": "execute_result",
          "data": {
            "text/plain": [
              "Text(95.72222222222221, 0.5, 'Actual')"
            ]
          },
          "metadata": {},
          "execution_count": 26
        },
        {
          "output_type": "display_data",
          "data": {
            "text/plain": [
              "<Figure size 1000x1000 with 2 Axes>"
            ],
            "image/png": "[encoded data removed]"
          },
          "metadata": {}
        }
      ]
    },
    {
      "cell_type": "markdown",
      "source": [
        "Using VGG16 to finetune or model"
      ],
      "metadata": {
        "id": "U4rDrh69Ez7U"
      }
    },
    {
      "cell_type": "code",
      "source": [
        "from tensorflow.keras.applications import VGG16\n",
        "from tensorflow.keras.preprocessing.image import ImageDataGenerator\n",
        "model_vgg16=VGG16(weights='imagenet',include_top=False,input_shape=(224,224,3))\n",
        "\n",
        "\n",
        "x=model_vgg16.output\n",
        "x=GlobalAveragePooling2D()(x)\n",
        "x=Dense(128,activation='relu')(x)\n",
        "predictions=Dense(5,activation='softmax')(x)\n",
        "finetune_model=tf.keras.Model(inputs=model_vgg16.input,outputs=predictions)"
      ],
      "metadata": {
        "colab": {
          "base_uri": "https://localhost:8080/"
        },
        "id": "U6E3OHBaWzUt",
        "outputId": "7af0c2d2-94e8-4112-edd3-c2be9abd2c0a"
      },
      "execution_count": 27,
      "outputs": [
        {
          "output_type": "stream",
          "name": "stdout",
          "text": [
            "Downloading data from https://storage.googleapis.com/tensorflow/keras-applications/vgg16/vgg16_weights_tf_dim_ordering_tf_kernels_notop.h5\n",
            "58889256/58889256 [==============================] - 3s 0us/step\n"
          ]
        }
      ]
    },
    {
      "cell_type": "markdown",
      "source": [
        "Making the layers non trainable except classiication layer"
      ],
      "metadata": {
        "id": "-dxV-L6lE4nn"
      }
    },
    {
      "cell_type": "code",
      "source": [
        "for layer in finetune_model.layers:\n",
        "  layer.trainable=False\n",
        "  "
      ],
      "metadata": {
        "id": "5yJWYwMZYALs"
      },
      "execution_count": 28,
      "outputs": []
    },
    {
      "cell_type": "code",
      "source": [
        "finetune_model.compile(loss='categorical_crossentropy',optimizer='adam',metrics='accuracy')\n"
      ],
      "metadata": {
        "id": "4Rk89PLdYMNg"
      },
      "execution_count": 29,
      "outputs": []
    },
    {
      "cell_type": "code",
      "source": [
        "finetune_model.summary(0)"
      ],
      "metadata": {
        "colab": {
          "base_uri": "https://localhost:8080/"
        },
        "id": "qP1U9GdsYXWd",
        "outputId": "dd3974ac-1c40-48df-e723-258c29d9774a"
      },
      "execution_count": 30,
      "outputs": [
        {
          "output_type": "stream",
          "name": "stdout",
          "text": [
            "Model: \"model\"\n",
            "_________________________________________________________________\n",
            " Layer (type)                Output Shape              Param #   \n",
            "=================================================================\n",
            " input_1 (InputLayer)        [(None, 224, 224, 3)]     0         \n",
            "                                                                 \n",
            " block1_conv1 (Conv2D)       (None, 224, 224, 64)      1792      \n",
            "                                                                 \n",
            " block1_conv2 (Conv2D)       (None, 224, 224, 64)      36928     \n",
            "                                                                 \n",
            " block1_pool (MaxPooling2D)  (None, 112, 112, 64)      0         \n",
            "                                                                 \n",
            " block2_conv1 (Conv2D)       (None, 112, 112, 128)     73856     \n",
            "                                                                 \n",
            " block2_conv2 (Conv2D)       (None, 112, 112, 128)     147584    \n",
            "                                                                 \n",
            " block2_pool (MaxPooling2D)  (None, 56, 56, 128)       0         \n",
            "                                                                 \n",
            " block3_conv1 (Conv2D)       (None, 56, 56, 256)       295168    \n",
            "                                                                 \n",
            " block3_conv2 (Conv2D)       (None, 56, 56, 256)       590080    \n",
            "                                                                 \n",
            " block3_conv3 (Conv2D)       (None, 56, 56, 256)       590080    \n",
            "                                                                 \n",
            " block3_pool (MaxPooling2D)  (None, 28, 28, 256)       0         \n",
            "                                                                 \n",
            " block4_conv1 (Conv2D)       (None, 28, 28, 512)       1180160   \n",
            "                                                                 \n",
            " block4_conv2 (Conv2D)       (None, 28, 28, 512)       2359808   \n",
            "                                                                 \n",
            " block4_conv3 (Conv2D)       (None, 28, 28, 512)       2359808   \n",
            "                                                                 \n",
            " block4_pool (MaxPooling2D)  (None, 14, 14, 512)       0         \n",
            "                                                                 \n",
            " block5_conv1 (Conv2D)       (None, 14, 14, 512)       2359808   \n",
            "                                                                 \n",
            " block5_conv2 (Conv2D)       (None, 14, 14, 512)       2359808   \n",
            "                                                                 \n",
            " block5_conv3 (Conv2D)       (None, 14, 14, 512)       2359808   \n",
            "                                                                 \n",
            " block5_pool (MaxPooling2D)  (None, 7, 7, 512)         0         \n",
            "                                                                 \n",
            " global_average_pooling2d (G  (None, 512)              0         \n",
            " lobalAveragePooling2D)                                          \n",
            "                                                                 \n",
            " dense_7 (Dense)             (None, 128)               65664     \n",
            "                                                                 \n",
            " dense_8 (Dense)             (None, 5)                 645       \n",
            "                                                                 \n",
            "=================================================================\n",
            "Total params: 14,780,997\n",
            "Trainable params: 0\n",
            "Non-trainable params: 14,780,997\n",
            "_________________________________________________________________\n"
          ]
        }
      ]
    },
    {
      "cell_type": "markdown",
      "source": [
        "Evaluation on Training data"
      ],
      "metadata": {
        "id": "d5WIEH8fFEit"
      }
    },
    {
      "cell_type": "code",
      "source": [
        "datagen = ImageDataGenerator(\n",
        "    featurewise_center=True,\n",
        "    featurewise_std_normalization=True,\n",
        "    rotation_range=20,\n",
        "    width_shift_range=0.2,\n",
        "    height_shift_range=0.2,\n",
        "    horizontal_flip=True,\n",
        "    validation_split=0.2)\n",
        "\n",
        "datagen.fit(x_train)\n",
        "\n",
        "model.fit(datagen.flow(x_train, y_train, batch_size=32,\n",
        "         subset='training'),\n",
        "         validation_data=datagen.flow(x_train, y_train,\n",
        "         batch_size=8, subset='validation'),\n",
        "         steps_per_epoch=len(x_train) / 32, epochs=16)"
      ],
      "metadata": {
        "colab": {
          "base_uri": "https://localhost:8080/"
        },
        "id": "T-iQYjRyidgr",
        "outputId": "8531be4b-71a6-4962-df69-3370c4aab384"
      },
      "execution_count": 31,
      "outputs": [
        {
          "output_type": "stream",
          "name": "stdout",
          "text": [
            "Epoch 1/16\n",
            "20/25 [=======================>......] - ETA: 0s - loss: 2.3944 - accuracy: 0.4250"
          ]
        },
        {
          "output_type": "stream",
          "name": "stderr",
          "text": [
            "WARNING:tensorflow:Your input ran out of data; interrupting training. Make sure that your dataset or generator can generate at least `steps_per_epoch * epochs` batches (in this case, 400.0 batches). You may need to use the repeat() function when building your dataset.\n"
          ]
        },
        {
          "output_type": "stream",
          "name": "stdout",
          "text": [
            "\b\b\b\b\b\b\b\b\b\b\b\b\b\b\b\b\b\b\b\b\b\b\b\b\b\b\b\b\b\b\b\b\b\b\b\b\b\b\b\b\b\b\b\b\b\b\b\b\b\b\b\b\b\b\b\b\b\b\b\b\b\b\b\b\b\b\b\b\b\b\b\b\b\b\b\b\b\b\b\b\b\b\r25/25 [==============================] - 3s 124ms/step - loss: 2.3944 - accuracy: 0.4250 - val_loss: 0.9685 - val_accuracy: 0.6125\n"
          ]
        },
        {
          "output_type": "execute_result",
          "data": {
            "text/plain": [
              "<keras.callbacks.History at 0x7ff483ed96c0>"
            ]
          },
          "metadata": {},
          "execution_count": 31
        }
      ]
    },
    {
      "cell_type": "markdown",
      "source": [
        "Evaluation on Testing data"
      ],
      "metadata": {
        "id": "LC2OtvWXFLqu"
      }
    },
    {
      "cell_type": "code",
      "source": [
        "datagen = ImageDataGenerator(\n",
        "    featurewise_center=True,\n",
        "    featurewise_std_normalization=True,\n",
        "    rotation_range=20,\n",
        "    width_shift_range=0.2,\n",
        "    height_shift_range=0.2,\n",
        "    horizontal_flip=True,\n",
        "    validation_split=0.2)\n",
        "# compute quantities required for featurewise normalization\n",
        "# (std, mean, and principal components if ZCA whitening is applied)\n",
        "datagen.fit(x_test)\n",
        "# fits the model on batches with real-time data augmentation:\n",
        "model.fit(datagen.flow(x_test, y_test, batch_size=32,\n",
        "         subset='validation'),\n",
        "         validation_data=datagen.flow(x_test, y_test,\n",
        "         batch_size=8, subset='validation'),\n",
        "         steps_per_epoch=len(x_test) / 32, epochs=5)"
      ],
      "metadata": {
        "colab": {
          "base_uri": "https://localhost:8080/"
        },
        "id": "8Za2LeKNi6A9",
        "outputId": "d147acaf-e210-4f6a-fb2d-0db517b6d2e1"
      },
      "execution_count": 32,
      "outputs": [
        {
          "output_type": "stream",
          "name": "stdout",
          "text": [
            "Epoch 1/5\n",
            "2/6 [========>.....................] - ETA: 0s - loss: 1.0430 - accuracy: 0.5250"
          ]
        },
        {
          "output_type": "stream",
          "name": "stderr",
          "text": [
            "WARNING:tensorflow:Your input ran out of data; interrupting training. Make sure that your dataset or generator can generate at least `steps_per_epoch * epochs` batches (in this case, 31.25 batches). You may need to use the repeat() function when building your dataset.\n"
          ]
        },
        {
          "output_type": "stream",
          "name": "stdout",
          "text": [
            "\b\b\b\b\b\b\b\b\b\b\b\b\b\b\b\b\b\b\b\b\b\b\b\b\b\b\b\b\b\b\b\b\b\b\b\b\b\b\b\b\b\b\b\b\b\b\b\b\b\b\b\b\b\b\b\b\b\b\b\b\b\b\b\b\b\b\b\b\b\b\b\b\b\b\b\b\b\b\b\b\r6/6 [==============================] - 2s 199ms/step - loss: 1.0430 - accuracy: 0.5250 - val_loss: 0.8935 - val_accuracy: 0.6500\n"
          ]
        },
        {
          "output_type": "execute_result",
          "data": {
            "text/plain": [
              "<keras.callbacks.History at 0x7ff483e30b50>"
            ]
          },
          "metadata": {},
          "execution_count": 32
        }
      ]
    }
  ]
}